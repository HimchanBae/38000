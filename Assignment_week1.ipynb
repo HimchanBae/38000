{
  "nbformat": 4,
  "nbformat_minor": 0,
  "metadata": {
    "colab": {
      "name": "Assignment_week1",
      "provenance": [],
      "mount_file_id": "1um2K_Fm9p0ibFeqq3jSyOuTZecUHYequ",
      "authorship_tag": "ABX9TyM0VLtmqEojPbjw+cySy8Ow",
      "include_colab_link": true
    },
    "kernelspec": {
      "name": "python3",
      "display_name": "Python 3"
    },
    "language_info": {
      "name": "python"
    }
  },
  "cells": [
    {
      "cell_type": "markdown",
      "metadata": {
        "id": "view-in-github",
        "colab_type": "text"
      },
      "source": [
        "<a href=\"https://colab.research.google.com/github/HimchanBae/38000/blob/main/Assignment_week1.ipynb\" target=\"_parent\"><img src=\"https://colab.research.google.com/assets/colab-badge.svg\" alt=\"Open In Colab\"/></a>"
      ]
    },
    {
      "cell_type": "code",
      "metadata": {
        "colab": {
          "base_uri": "https://localhost:8080/"
        },
        "id": "1rTfjJaIe4BU",
        "outputId": "38583eda-14d7-426b-ce6b-bc68a6f483de"
      },
      "source": [
        "#Quiz1\n",
        "\n",
        "kor = 90\n",
        "mat = 80\n",
        "eng = 100\n",
        "sum = kor + mat + eng\n",
        "avg = int(sum / 3)\n",
        "\n",
        "print('kor',kor,'\\nmat',mat,'\\neng',eng,'\\nsum',sum,'\\navg',avg)"
      ],
      "execution_count": 13,
      "outputs": [
        {
          "output_type": "stream",
          "name": "stdout",
          "text": [
            "kor 90 \n",
            "mat 80 \n",
            "eng 100 \n",
            "sum 270 \n",
            "avg 90\n"
          ]
        }
      ]
    },
    {
      "cell_type": "code",
      "metadata": {
        "colab": {
          "base_uri": "https://localhost:8080/"
        },
        "id": "p-l4dr4NfB2b",
        "outputId": "be9d0ef8-280f-42e3-d259-325a3500b6ac"
      },
      "source": [
        "#Quiz2\n",
        "print('T'*10,'T'*10,' '*4+'TT',' '*4+'TT',' '*4+'TT',sep='\\n')"
      ],
      "execution_count": 10,
      "outputs": [
        {
          "output_type": "stream",
          "name": "stdout",
          "text": [
            "TTTTTTTTTT\n",
            "TTTTTTTTTT\n",
            "    TT\n",
            "    TT\n",
            "    TT\n"
          ]
        }
      ]
    },
    {
      "cell_type": "code",
      "metadata": {
        "colab": {
          "base_uri": "https://localhost:8080/"
        },
        "id": "dnWu0YPmhLxh",
        "outputId": "894523ee-ddea-4483-ee4a-c72b29003f17"
      },
      "source": [
        "#Quiz3\n",
        "num1 = 10\n",
        "num2 = 20\n",
        "num3 = 30\n",
        "\n",
        "print(num1,'+',num2,'=',num3)"
      ],
      "execution_count": 15,
      "outputs": [
        {
          "output_type": "stream",
          "name": "stdout",
          "text": [
            "10 + 20 = 30\n"
          ]
        }
      ]
    },
    {
      "cell_type": "code",
      "metadata": {
        "id": "i7_V015Yhj9_"
      },
      "source": [
        "#Quiz4\n",
        "num1 = int(input(\"첫 번째 정수를 입력해주세요: \"))\n",
        "num2 = int(input(\"두 번째 정수를 입력해주세요: \"))\n",
        "num3 = int(input(\"세 번째 정수를 입력해주세요: \"))\n",
        "\n",
        "sum = num1 + num2 + num3\n",
        "avg = int(sum / 3)\n",
        "\n",
        "print('sum =',sum,'\\navg =',avg)"
      ],
      "execution_count": null,
      "outputs": []
    },
    {
      "cell_type": "code",
      "metadata": {
        "colab": {
          "base_uri": "https://localhost:8080/"
        },
        "id": "23j2Up8qiuM-",
        "outputId": "419c0b22-fa41-4212-82a4-07384af37271"
      },
      "source": [
        "#Quiz5\n",
        "yard = float(input(\"yard? \"))\n",
        "\n",
        "centimeter = round(yard*91.44, 1)\n",
        "\n",
        "print(yard,'yard = ',centimeter,'cm',sep='')"
      ],
      "execution_count": 25,
      "outputs": [
        {
          "output_type": "stream",
          "name": "stdout",
          "text": [
            "yard? 10.1\n",
            "10.1yard = 923.5cm\n"
          ]
        }
      ]
    }
  ]
}